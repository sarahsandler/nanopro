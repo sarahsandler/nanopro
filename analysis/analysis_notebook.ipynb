{
 "cells": [
  {
   "cell_type": "code",
   "execution_count": 3,
   "id": "062732db",
   "metadata": {},
   "outputs": [],
   "source": [
    "#path in functions will need to be changed to your system\n",
    "from load_events import load_data\n",
    "from event_vis import event_vis\n",
    "from event_vis import peak_event_vis\n",
    "from event_vis import defined_event_vis\n",
    "from event_vis import defined_peak_event_vis\n",
    "from poresize import poresize\n",
    "from peaks import dpeak_finder\n",
    "from pos2time import pos2time \n",
    "import pandas as pd "
   ]
  },
  {
   "cell_type": "markdown",
   "id": "acd0a27f",
   "metadata": {},
   "source": [
    "### Pore Sizer Check"
   ]
  },
  {
   "cell_type": "code",
   "execution_count": 14,
   "id": "88c55aa5",
   "metadata": {},
   "outputs": [
    {
     "data": {
      "text/latex": [
       "$\\displaystyle 14.3864507529196 - 3.15544362088405 \\cdot 10^{-21} i$"
      ],
      "text/plain": [
       "14.3864507529196 - 3.15544362088405e-21*I"
      ]
     },
     "execution_count": 14,
     "metadata": {},
     "output_type": "execute_result"
    }
   ],
   "source": [
    "#change poresize code to include your own path\n",
    "file='IV_ms2_march25'\n",
    "poresize(file, 2,'licl')\n",
    "#file name, #concentration, #salt\n",
    "#take real part only"
   ]
  },
  {
   "cell_type": "markdown",
   "id": "fb3a3690",
   "metadata": {},
   "source": [
    "### Loading files in"
   ]
  },
  {
   "cell_type": "markdown",
   "id": "45a67bab",
   "metadata": {},
   "source": [
    "The file we are loading in is an hdf5 events file that should contain all the DNA translocation events through the nanopore during out measurement"
   ]
  },
  {
   "cell_type": "code",
   "execution_count": 15,
   "id": "e2a9691e",
   "metadata": {},
   "outputs": [],
   "source": [
    "file='dcas9_nomg_4M_11111_118_p2'"
   ]
  },
  {
   "cell_type": "code",
   "execution_count": 16,
   "id": "75a2018e",
   "metadata": {},
   "outputs": [],
   "source": [
    "event_set=load_data(file)\n",
    "# this will need to change based on the path you use on your computer\n",
    "# go into the function file and create your own based on your path that you will put the files in"
   ]
  },
  {
   "cell_type": "markdown",
   "id": "bdcdc55e",
   "metadata": {},
   "source": [
    "first check to make sure there are enough events and not too many if there are over 3,000 events then there was probably an issue with the first step detection and the noise in the nanopore measurement\n",
    "Use the len command to do this!"
   ]
  },
  {
   "cell_type": "code",
   "execution_count": 17,
   "id": "4bee9464",
   "metadata": {},
   "outputs": [
    {
     "data": {
      "text/plain": [
       "1756"
      ]
     },
     "execution_count": 17,
     "metadata": {},
     "output_type": "execute_result"
    }
   ],
   "source": [
    "len(event_set) \n"
   ]
  },
  {
   "cell_type": "code",
   "execution_count": 18,
   "id": "6b244db3",
   "metadata": {},
   "outputs": [],
   "source": [
    "#event_vis(event_set) # this will print all the events"
   ]
  },
  {
   "cell_type": "markdown",
   "id": "718f16fc",
   "metadata": {},
   "source": [
    "this is a good example because you can see in the middle alot of the 'events' are actually noise which is why we need to apply some filtering steps"
   ]
  },
  {
   "cell_type": "code",
   "execution_count": 19,
   "id": "592f1de5",
   "metadata": {},
   "outputs": [],
   "source": [
    "\n",
    "h=0.015\n",
    "t=-0.015\n",
    "d=25\n",
    "p=0.015 #adust down to detect smaller peaks\n",
    "w=1 #Required width of peaks in samples, adjust to get rid of some low prominence peaks\n",
    "wl=10 #ts rid of folds, go down\n",
    "\n",
    "#remove comment\n",
    "#peaks=dpeak_finder(event_set,h,t,d,p,w,wl)"
   ]
  },
  {
   "cell_type": "markdown",
   "id": "68b7dcde",
   "metadata": {},
   "source": [
    "read the function to learn about the parameters and play around with them, at the end of this notebook is an example where you can choose an event to play with to optomize them. "
   ]
  },
  {
   "cell_type": "code",
   "execution_count": 20,
   "id": "f9c16dc7",
   "metadata": {},
   "outputs": [
    {
     "data": {
      "text/plain": [
       "0"
      ]
     },
     "execution_count": 20,
     "metadata": {},
     "output_type": "execute_result"
    }
   ],
   "source": [
    "len(peaks)"
   ]
  },
  {
   "cell_type": "markdown",
   "id": "4fd800b4",
   "metadata": {},
   "source": [
    "see much smaller number after the inital filtering !^\n",
    "This code is basically just filtering for noise, later we can use the data it stores about peaks to try and filter more"
   ]
  },
  {
   "cell_type": "code",
   "execution_count": 21,
   "id": "803bdb45",
   "metadata": {},
   "outputs": [],
   "source": [
    "#defined_event_vis(event_set,peaks.event)\n",
    "#remove comment"
   ]
  },
  {
   "attachments": {
    "image.png": {
     "image/png": "[encoded data removed]"
    }
   },
   "cell_type": "markdown",
   "id": "96943492",
   "metadata": {},
   "source": [
    "still some events that aren't very good - for example:\n",
    "![image.png](attachment:image.png)"
   ]
  },
  {
   "cell_type": "markdown",
   "id": "2eef1201",
   "metadata": {},
   "source": [
    "this event is only one peak and doesnt have our barcode so lets write some code to say that there needs to be atleast 2 peaks!"
   ]
  },
  {
   "cell_type": "code",
   "execution_count": 27,
   "id": "847a2cf2",
   "metadata": {},
   "outputs": [],
   "source": [
    "#cas9_peaks = peaks[peaks.mag2 != 0]\n",
    "#remove comment"
   ]
  },
  {
   "cell_type": "markdown",
   "id": "776eb1cd",
   "metadata": {},
   "source": [
    "this is another filtering step to say there must be atleast 2 peaks\n",
    "however, the peak counter isn't perfect, so using the example at the end of this document you can try and play around with values to find the peaks"
   ]
  },
  {
   "cell_type": "code",
   "execution_count": 28,
   "id": "9802be90",
   "metadata": {},
   "outputs": [],
   "source": [
    "#len(cas9_peaks)\n",
    "#remove comment"
   ]
  },
  {
   "cell_type": "code",
   "execution_count": 25,
   "id": "500a7e59",
   "metadata": {},
   "outputs": [],
   "source": [
    "#defined_event_vis(event_set,cas9_peaks.event)\n",
    "#remove comment"
   ]
  },
  {
   "cell_type": "code",
   "execution_count": 26,
   "id": "3139c2ed",
   "metadata": {},
   "outputs": [
    {
     "data": {
      "text/plain": [
       "Text(0.5, 1.0, \"Event: ['T000008']\")"
      ]
     },
     "execution_count": 26,
     "metadata": {},
     "output_type": "execute_result"
    },
    {
     "data": {
      "image/png": "[encoded data removed]",
      "text/plain": [
       "<Figure size 800x200 with 1 Axes>"
      ]
     },
     "metadata": {},
     "output_type": "display_data"
    }
   ],
   "source": [
    "\n",
    "h=0.015\n",
    "t=-0.015\n",
    "d=25\n",
    "p=0.015 #adust down to detect smaller peaks\n",
    "w=1 #Required width of peaks in samples, adjust to get rid of some low prominence peaks\n",
    "wl=12 #ts rid of folds, go down\n",
    "\n",
    "from scipy.signal import find_peaks \n",
    "import matplotlib\n",
    "import matplotlib.pyplot as plt\n",
    "font = {'family' : 'Calibri',\n",
    "        'weight' : 'normal',\n",
    "        'size'   : 10}\n",
    "\n",
    "\n",
    "\n",
    "file=event_set\n",
    "i = 'T000008'\n",
    "current = file[i]['current_nA'][...]\n",
    "x= -1*current\n",
    "peaks, properties = find_peaks(x, height=h, threshold=t, distance=d, prominence=p, width=w, wlen=wl)\n",
    "plt.figure(dpi=200, figsize=(4,1))\n",
    "plt.style.use('default')\n",
    "matplotlib.rc('font', **font)\n",
    "plt.plot(x, color='black')\n",
    "plt.plot(peaks, x[peaks], \"x\", color='red')\n",
    "plt.vlines(x=peaks, ymin=x[peaks] - properties[\"prominences\"], ymax = x[peaks], color = \"C1\")\n",
    "plt.hlines(y=properties[\"width_heights\"], xmin=properties[\"left_ips\"], xmax=properties[\"right_ips\"], color = \"C1\")\n",
    "#plt.plot(np.zeros_like(y), \"--\", color=\"gray\")\n",
    "plt.title(\"Event: \" + str([i]))\n",
    "#plt.show() #remove comment\n"
   ]
  },
  {
   "cell_type": "code",
   "execution_count": null,
   "id": "181588dc",
   "metadata": {},
   "outputs": [],
   "source": []
  }
 ],
 "metadata": {
  "kernelspec": {
   "display_name": "Python 3",
   "language": "python",
   "name": "python3"
  },
  "language_info": {
   "codemirror_mode": {
    "name": "ipython",
    "version": 3
   },
   "file_extension": ".py",
   "mimetype": "text/x-python",
   "name": "python",
   "nbconvert_exporter": "python",
   "pygments_lexer": "ipython3",
   "version": "3.8.8"
  }
 },
 "nbformat": 4,
 "nbformat_minor": 5
}
